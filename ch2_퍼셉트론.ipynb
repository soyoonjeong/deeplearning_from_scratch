{
  "nbformat": 4,
  "nbformat_minor": 0,
  "metadata": {
    "colab": {
      "provenance": [],
      "toc_visible": true,
      "authorship_tag": "ABX9TyPDMxkmHqUS8kwSKpG3T2Co",
      "include_colab_link": true
    },
    "kernelspec": {
      "name": "python3",
      "display_name": "Python 3"
    },
    "language_info": {
      "name": "python"
    }
  },
  "cells": [
    {
      "cell_type": "markdown",
      "metadata": {
        "id": "view-in-github",
        "colab_type": "text"
      },
      "source": [
        "<a href=\"https://colab.research.google.com/github/soyoonjeong/deeplearning_from_scratch/blob/main/ch2_%ED%8D%BC%EC%85%89%ED%8A%B8%EB%A1%A0.ipynb\" target=\"_parent\"><img src=\"https://colab.research.google.com/assets/colab-badge.svg\" alt=\"Open In Colab\"/></a>"
      ]
    },
    {
      "cell_type": "markdown",
      "source": [
        "- 퍼셉트론은 입출력을 갖춘 알고리즘, 입력을 주면 정해진 규칙에 따른 값을 출력\n",
        "- 퍼셉트론에서는 '가중치'와 '편향'을 매개변수로 설정한다.\n",
        "- 퍼셉트론으로 AND, OR 게이트 등의 논리 회로를 표현할 수 있다.\n",
        "- XOR 게이트는 단층 퍼셉트론으로는 표현할 수 없다.\n",
        "- 2층 퍼셉트론을 이용하면 XOR 게이트를 표현할 수 있다.\n",
        "- 단층 퍼셉트론은 직선형 영역만 표현할 수 있고, 다층 퍼셉트론은 비선형 영역도 표현할 수 있다. \n",
        "- 다층 퍼셉트론은 (이론상) 컴퓨터를 표현할 수 있다. "
      ],
      "metadata": {
        "id": "5S9Muo_SmbsV"
      }
    },
    {
      "cell_type": "markdown",
      "source": [
        "# 퍼셉트론 구현하기 "
      ],
      "metadata": {
        "id": "npoWbL8lgZwf"
      }
    },
    {
      "cell_type": "markdown",
      "source": [
        "## 간단한 구현부터 "
      ],
      "metadata": {
        "id": "l4wC8L-qgw6q"
      }
    },
    {
      "cell_type": "code",
      "execution_count": 1,
      "metadata": {
        "id": "cbFJMtVffKtT"
      },
      "outputs": [],
      "source": [
        "def AND(x1, x2):\n",
        "  w1, w2, theta = 0.5, 0.5, 0.7 # 가중치, 임계값값\n",
        "  tmp = x1*w1 + x2*w2\n",
        "  if tmp > theta:\n",
        "    return 1\n",
        "  else:\n",
        "    return 0"
      ]
    },
    {
      "cell_type": "code",
      "source": [
        "print(AND(0, 0))\n",
        "print(AND(0, 1))\n",
        "print(AND(1, 0))\n",
        "print(AND(1, 1))"
      ],
      "metadata": {
        "colab": {
          "base_uri": "https://localhost:8080/"
        },
        "id": "jMz-ckU9hIGF",
        "outputId": "c9ac4f70-81bf-4c96-8b3b-a59d3b5259c0"
      },
      "execution_count": 3,
      "outputs": [
        {
          "output_type": "stream",
          "name": "stdout",
          "text": [
            "0\n",
            "0\n",
            "0\n",
            "1\n"
          ]
        }
      ]
    },
    {
      "cell_type": "markdown",
      "source": [
        "## 가중치와 편향 도입 "
      ],
      "metadata": {
        "id": "iK9HHRUWhQ4C"
      }
    },
    {
      "cell_type": "markdown",
      "source": [
        "퍼셉트론은 입력신호에 가중치를 곱하여 편향을 더한 값이 0을 넘으면 1을 출력하고 넘지 않으면 0을 출력 "
      ],
      "metadata": {
        "id": "8ZKoKdHRhYNf"
      }
    },
    {
      "cell_type": "code",
      "source": [
        "import numpy as np\n",
        "x = np.array([0, 1])\n",
        "w = np.array([0.5, 0.5])\n",
        "b = -0.7\n",
        "print(np.sum(w*x)+b)"
      ],
      "metadata": {
        "colab": {
          "base_uri": "https://localhost:8080/"
        },
        "id": "uymN7SHUhKzM",
        "outputId": "f2241b36-219d-4fec-d5ec-5cc3017a5e00"
      },
      "execution_count": 4,
      "outputs": [
        {
          "output_type": "stream",
          "name": "stdout",
          "text": [
            "-0.19999999999999996\n"
          ]
        }
      ]
    },
    {
      "cell_type": "markdown",
      "source": [
        "## 가중치와 편향 구현하기 "
      ],
      "metadata": {
        "id": "UtIrNnZThtB7"
      }
    },
    {
      "cell_type": "markdown",
      "source": [
        "- 가중치 : 각 입력 신호가 결과에 주는 영향력(중요도)를 조절하는 매개변수 <br>\n",
        "=> 가중치가 클수록 해당 신호가 더 중요하다는 것!<br>\n",
        "- 편향 : 뉴런이 얼마나 쉽게 활성화(1을 출력)하느냐를 조정하는 매개변수 <br>\n",
        "=> 편향이 클수록 뉴런이 활성화하기 쉽다는 것!"
      ],
      "metadata": {
        "id": "ki5dncLjiQ2K"
      }
    },
    {
      "cell_type": "code",
      "source": [
        "def AND(x1, x2):\n",
        "  x = np.array([x1, x2])\n",
        "  w = np.array([0.5, 0.5])\n",
        "  b = -0.7\n",
        "  tmp = np.sum(w*x) + b # 입력신호에 가중치 곱하고 편향 더함 \n",
        "  if tmp > 0:\n",
        "    return 1\n",
        "  else:\n",
        "    return 0"
      ],
      "metadata": {
        "id": "iLcPr1rvhv_L"
      },
      "execution_count": null,
      "outputs": []
    },
    {
      "cell_type": "code",
      "source": [
        "def NAND(x1, x2):\n",
        "  x = np.array([x1, x2])\n",
        "  w = np.array([-0.5, -0.5])\n",
        "  b = 0.7\n",
        "  tmp = np.sum(w*x) + b # 입력신호에 가중치 곱하고 편향 더함 \n",
        "  if tmp > 0:\n",
        "    return 1\n",
        "  else:\n",
        "    return 0"
      ],
      "metadata": {
        "id": "4Nzmk0X9i3aw"
      },
      "execution_count": null,
      "outputs": []
    },
    {
      "cell_type": "code",
      "source": [
        "def OR(x1, x2):\n",
        "  x = np.array([x1, x2])\n",
        "  w = np.array([0.5, 0.5])\n",
        "  b = -0.3\n",
        "  tmp = np.sum(w*x) + b # 입력신호에 가중치 곱하고 편향 더함 \n",
        "  if tmp > 0:\n",
        "    return 1\n",
        "  else:\n",
        "    return 0"
      ],
      "metadata": {
        "id": "JQbrSCXzi7xf"
      },
      "execution_count": null,
      "outputs": []
    },
    {
      "cell_type": "markdown",
      "source": [
        "AND, NAND, OR는 모두 같은 구조의 퍼셉트론, 가중치 매개변수의 값의 차이 있음 "
      ],
      "metadata": {
        "id": "sYmzkLfUjOF8"
      }
    },
    {
      "cell_type": "markdown",
      "source": [
        "# 퍼셉트론의 한계 "
      ],
      "metadata": {
        "id": "DKIFNvWwjV1t"
      }
    },
    {
      "cell_type": "markdown",
      "source": [
        "![image.png](data:image/png;base64,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)"
      ],
      "metadata": {
        "id": "RkiAjrrfjyWc"
      }
    },
    {
      "cell_type": "markdown",
      "source": [
        "PROBLEM : 퍼셉트론은 직선 하나로 나눈 영역만 표현할 수 있다는 한계 있음 "
      ],
      "metadata": {
        "id": "-n6glQlNj6WM"
      }
    },
    {
      "cell_type": "markdown",
      "source": [
        "# 다층 퍼셉트론이 출동한다면"
      ],
      "metadata": {
        "id": "yX4e4oo0kadT"
      }
    },
    {
      "cell_type": "markdown",
      "source": [
        "## XOR 게이트 구현하기 "
      ],
      "metadata": {
        "id": "bqmDQMYqkipz"
      }
    },
    {
      "cell_type": "markdown",
      "source": [
        "![image.png](data:image/png;base64,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)"
      ],
      "metadata": {
        "id": "VqZGO-JDk-1_"
      }
    },
    {
      "cell_type": "markdown",
      "source": [
        "![image.png](data:image/png;base64,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)"
      ],
      "metadata": {
        "id": "LgJxiVgklynS"
      }
    },
    {
      "cell_type": "code",
      "source": [
        "def XOR(x1, x2):\n",
        "  s1 = NAND(x1, x2)\n",
        "  s2 = OR(x1, x2)\n",
        "  return AND(s1, s2)"
      ],
      "metadata": {
        "id": "MIwlJ7LwkmAY"
      },
      "execution_count": null,
      "outputs": []
    },
    {
      "cell_type": "markdown",
      "source": [
        "**다층 퍼셉트론으로 더 다양한 것 (비선형 영역)을 표현할 수 있음**"
      ],
      "metadata": {
        "id": "6vVTl6vsl0Zf"
      }
    }
  ]
}