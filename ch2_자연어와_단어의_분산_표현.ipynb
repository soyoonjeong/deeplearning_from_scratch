{
  "nbformat": 4,
  "nbformat_minor": 0,
  "metadata": {
    "colab": {
      "provenance": [],
      "mount_file_id": "1cZpQpw93H1bHRcBUNNqrMJIDUq3HDUDp",
      "authorship_tag": "ABX9TyP8GO+IFBI+w/J6V2QZqKEf",
      "include_colab_link": true
    },
    "kernelspec": {
      "name": "python3",
      "display_name": "Python 3"
    },
    "language_info": {
      "name": "python"
    }
  },
  "cells": [
    {
      "cell_type": "markdown",
      "metadata": {
        "id": "view-in-github",
        "colab_type": "text"
      },
      "source": [
        "<a href=\"https://colab.research.google.com/github/soyoonjeong/deeplearning_from_scratch/blob/main/ch2_%EC%9E%90%EC%97%B0%EC%96%B4%EC%99%80_%EB%8B%A8%EC%96%B4%EC%9D%98_%EB%B6%84%EC%82%B0_%ED%91%9C%ED%98%84.ipynb\" target=\"_parent\"><img src=\"https://colab.research.google.com/assets/colab-badge.svg\" alt=\"Open In Colab\"/></a>"
      ]
    },
    {
      "cell_type": "code",
      "execution_count": 19,
      "metadata": {
        "id": "IlMBxeVBpT0i",
        "colab": {
          "base_uri": "https://localhost:8080/"
        },
        "outputId": "c9fc3475-4d92-411c-ad99-7b9e42be7359"
      },
      "outputs": [
        {
          "output_type": "stream",
          "name": "stdout",
          "text": [
            "/content/drive/MyDrive\n"
          ]
        }
      ],
      "source": [
        "import numpy as np\n",
        "%cd /content/drive/MyDrive"
      ]
    },
    {
      "cell_type": "markdown",
      "source": [
        "- WordNet 등의 시소러스를 이용하면 유의어를 얻거나 단어 사이의 유사도를 측정하는 등 유용한 작업을 할 수 있다.\n",
        "- 시소러스 기반 기법은 시소러스를 작성하는 데 엄청난 인적 자원이 든다거나 새로운 단어에 대응하기 어렵다는 문제가 있다.\n",
        "- 현재는 말뭉치를 이용해 단어를 벡터화하는 방식이 주로 쓰인다.\n",
        "- 최근의 단어 벡터화 기법들은 대부분 '단어의 의미는 주변 단어에 의해 형성된다'는 분포 가설에 기초한다.\n",
        "- 통계 기반 기법은 말뭉치 안의 각 단어에 대해서 그 단어의 주변 단어의 빈도를 집계 (동시발생 행렬)\n",
        "- 동시발생 행렬을 PPMI 행렬로 변환하고 다시 차원을 감소시킴으로써, 거대한 희소벡터를 작은 밀집벡터로 변환할 수 있다.\n",
        "- 단어의 벡터 공간에서의 의미가 가까운 단어는 그 거리도 가까울 것으로 기대된다. "
      ],
      "metadata": {
        "id": "Q0rHFAiFrza6"
      }
    },
    {
      "cell_type": "markdown",
      "source": [
        "# 자연어 처리란"
      ],
      "metadata": {
        "id": "_Bl77c5tpYPo"
      }
    },
    {
      "cell_type": "markdown",
      "source": [
        "**자연어** : 우리가 평소에 쓰는 말 <br>\n",
        "**자연어 처리(NLP)** :  우리의 말을 컴퓨터에게 이해시키기 위한 기술(분야) <br>\n",
        "자연어는 살아있는 언어이며 부드러운 언어이기에 컴퓨터에게 이해시키기 어렵다 <br>\n",
        "컴퓨터에게 자연어를 이해시킬 수 있다면 검색 엔진, 기계 번역, 질의응답 시스템, IME(입력기 전환), 문장 자동요약, 감정분석 등 도움이 될 수 있음"
      ],
      "metadata": {
        "id": "0uPO2zgKpe2Z"
      }
    },
    {
      "cell_type": "markdown",
      "source": [
        "## 단어의 의미"
      ],
      "metadata": {
        "id": "RynaGPgUqQAN"
      }
    },
    {
      "cell_type": "markdown",
      "source": [
        "**단어** : 의미의 최소 단위 <BR>\n",
        "컴퓨터에게 단어의 의미 이해시키기 위한 기법<BR>\n",
        "- 시소러스를 활용한 기법\n",
        "- 통계 기반 기법\n",
        "- 추론 기반 기법"
      ],
      "metadata": {
        "id": "MnYTRk6AqTWF"
      }
    },
    {
      "cell_type": "markdown",
      "source": [
        "# 시소러스 "
      ],
      "metadata": {
        "id": "5A5G3PKxqpQ7"
      }
    },
    {
      "cell_type": "markdown",
      "source": [
        "- 동의어, 유의어 집합 만듦\n",
        "- '상위와 하위', '전체와 부분' 등 단어들 간의 관계를 그래프로 표현해 단어 사이의 연결(단어 네트워크) 정의 <br>\n",
        "=> 컴퓨터에게 '단어의 의미'를 직간접적으로 전달달"
      ],
      "metadata": {
        "id": "2-kj3x5lqriy"
      }
    },
    {
      "cell_type": "markdown",
      "source": [
        "## WordNet"
      ],
      "metadata": {
        "id": "--n2j2sBrNnd"
      }
    },
    {
      "cell_type": "markdown",
      "source": [
        "## 시소러스의 문제점 "
      ],
      "metadata": {
        "id": "embRIYBkrZhb"
      }
    },
    {
      "cell_type": "markdown",
      "source": [
        "- 시대 변화에 대응하기 어렵다 <br>\n",
        "새로운 단어가 생겨나고 옛말은 잊혀지고 단어의 의미가 변함\n",
        "- 사람을 쓰는 비용은 크다 <br>\n",
        "- 단어의 미묘한 차이를 표현할 수 없다 <br>\n",
        "비슷한 단어라도 미묘한 차이가 있을 수 있음 ex) 빈티지, 레트로 \n",
        "\n",
        "solution : 통계 기반 기법, 추론 기반 기법 => 대량의 텍스트 데이터로부터 단어의 의미를 자동으로 추출 "
      ],
      "metadata": {
        "id": "VDmPnq8nrgYx"
      }
    },
    {
      "cell_type": "markdown",
      "source": [
        "# 통계 기반 기법 "
      ],
      "metadata": {
        "id": "ZWA0r6ljsNTM"
      }
    },
    {
      "cell_type": "markdown",
      "source": [
        "**말뭉치(corpus)** : 자연어 처리 연구나 애플리케이션을 염두에 두고 수집된 텍스트 데이터<br>\n",
        "말뭉치에는 자연어에 대한 사람의 '지식'이 충분히 담김 <br>\n",
        "=> 사람의 지식으로 가득한 말뭉치에서 자동으로, 그리고 효율적으로 그 핵심을 추출하는 것!"
      ],
      "metadata": {
        "id": "atgsRv2-gBzx"
      }
    },
    {
      "cell_type": "markdown",
      "source": [
        "## 파이썬으로 말뭉치 전처리하기\n",
        "텍스트 데이터를 단어로 분할하고 그 분할된 단어들을 단어 ID 목록으로 변환하기 "
      ],
      "metadata": {
        "id": "3RJEKR1dgjoC"
      }
    },
    {
      "cell_type": "code",
      "source": [
        "def preprocess(text):\n",
        "  text = text.lower()\n",
        "  text = text.replace('.', ' .')\n",
        "  words = text.split(' ')\n",
        "  word_to_id = {}\n",
        "  id_to_word = {}\n",
        "  for word in words:\n",
        "    if word not in  word_to_id:\n",
        "      new_id = len(word_to_id)\n",
        "      word_to_id[word] = new_id\n",
        "      id_to_word[new_id] = word\n",
        "\n",
        "  corpus = np.array([word_to_id[w] for w in words])\n",
        "\n",
        "  return corpus, word_to_id, id_to_word"
      ],
      "metadata": {
        "id": "OkkytALvpwLE"
      },
      "execution_count": 3,
      "outputs": []
    },
    {
      "cell_type": "markdown",
      "source": [
        "## 단어의 분산 표현\n",
        ": 단어를 고정 길이의 밀집 벡터로 표현\n",
        "- 단어의 의미를 정확하게 명시\n",
        "- 단어끼리의 관련성을 쉽게 판단할 수 있음음"
      ],
      "metadata": {
        "id": "pgDay_fhhbr8"
      }
    },
    {
      "cell_type": "markdown",
      "source": [
        "## 분포 가설 \n",
        ": 단어 자체에는 의미가 없고, 그 단어가 사용된 **맥락**이 의미를 형성한다!<br>\n",
        "여기서의 맥락은 주목하는 단어 주변에 놓인 단어를 말함함"
      ],
      "metadata": {
        "id": "4gtHWRFPhwI5"
      }
    },
    {
      "cell_type": "markdown",
      "source": [
        "## 동시발생 행렬\n",
        "**통계 기반 기법** : 어떤 단어에 주목했을 때 그 주변에 어떤 단어가 몇 번이나 등장하는지를 세어 집계하는 방법 "
      ],
      "metadata": {
        "id": "eGCZf59HiDQj"
      }
    },
    {
      "cell_type": "markdown",
      "source": [
        "![image.png](data:image/png;base64,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)"
      ],
      "metadata": {
        "id": "g4-bgj4RjrBk"
      }
    },
    {
      "cell_type": "code",
      "source": [
        "def create_co_matrix(corpus, vocab_size, window_size = 1):\n",
        "  corpus_size = len(corpus)\n",
        "  co_matrix = np.zeros((vocab_size, vocab_size), dtype = np.int32)\n",
        "\n",
        "  for idx, word_id in enumerate(corpus):\n",
        "    for i in range(1, window_size + 1):\n",
        "      left_idx = idx - i\n",
        "      right_idx = idx + i\n",
        "\n",
        "      if left_idx >= 0:\n",
        "        left_word_id = corpus[left_idx]\n",
        "        co_matrix[word_id, left_word_id] += 1\n",
        "\n",
        "      if right_idx < corpus_size:\n",
        "        right_word_id = corpus[right_idx]\n",
        "        co_matrix[word_id, right_word_id] += 1\n",
        "\n",
        "  return co_matrix"
      ],
      "metadata": {
        "id": "Rz2afayxhyNc"
      },
      "execution_count": 4,
      "outputs": []
    },
    {
      "cell_type": "markdown",
      "source": [
        "## 벡터 간 유사도 "
      ],
      "metadata": {
        "id": "hyL_6kkqjhjz"
      }
    },
    {
      "cell_type": "markdown",
      "source": [
        "**코사인 유사도** : 단어 벡터의 유사도를 나타낼 때 자주 이용 => **두 벡터가 가리키는 방향이 얼마나 비슷한가**<br>\n",
        "벡터를 정규화하고 내적을 구하는 것! <br>\n",
        "벡터의 방향이 완전히 같다면 코사인 유사도가 1이 되고 완전히 반대라면 -1"
      ],
      "metadata": {
        "id": "_BM3wOcelYQg"
      }
    },
    {
      "cell_type": "markdown",
      "source": [
        "![image.png](data:image/png;base64,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)"
      ],
      "metadata": {
        "id": "JX880nLDlot0"
      }
    },
    {
      "cell_type": "code",
      "source": [
        "def cos_similarity(x, y, eps = 1e-8):\n",
        "  nx = x / (np.sqrt(np.sum(x ** 2)) + eps)\n",
        "  ny = y / (np.sqrt(np.sum(y ** 2)) + eps)\n",
        "  return np.dot(nx, ny)"
      ],
      "metadata": {
        "id": "CCc5DuAjl6Mg"
      },
      "execution_count": 5,
      "outputs": []
    },
    {
      "cell_type": "code",
      "source": [
        "text = 'You say goodbye and i say hello.'\n",
        "corpus, word_to_id, id_to_word = preprocess(text)\n",
        "vocab_size = len(word_to_id)\n",
        "C = create_co_matrix(corpus, vocab_size)\n",
        "\n",
        "c0 = C[word_to_id['you']]\n",
        "c1 = C[word_to_id['i']]\n",
        "print(cos_similarity(c0, c1))"
      ],
      "metadata": {
        "colab": {
          "base_uri": "https://localhost:8080/"
        },
        "id": "AwPKBJCRmKNz",
        "outputId": "350473fb-1047-4053-e662-b009e3709bba"
      },
      "execution_count": 6,
      "outputs": [
        {
          "output_type": "stream",
          "name": "stdout",
          "text": [
            "0.7071067691154799\n"
          ]
        }
      ]
    },
    {
      "cell_type": "markdown",
      "source": [
        "## 유사 단어의 랭킹 표시"
      ],
      "metadata": {
        "id": "SywyhOHDnBC6"
      }
    },
    {
      "cell_type": "code",
      "source": [
        "def most_similar(query, word_to_id, id_to_word, word_matrix, top = 5):\n",
        "  # 검색어의 단어 벡터 꺼내기 \n",
        "  if query not in word_to_id:\n",
        "    print(\"%s를 찾을 수 없습니다.\" %query)\n",
        "    return\n",
        "\n",
        "  print('\\n[query] ' + query)\n",
        "  query_id = word_to_id[query]\n",
        "  query_matrix = word_matrix[query_id]\n",
        "\n",
        "  # 검색어의 단어 벡터와 다른 모든 단어 벡터와의 코사인 유사도 각각 구함\n",
        "  vocab_size = len(id_to_word)\n",
        "  similarity = np.zeros(vocab_size)\n",
        "  for i in range(vocab_size):\n",
        "    similarity[i] = cos_similarity(word_matrix[i], query_matrix)\n",
        "\n",
        "  # 코사인 유사도를 기준으로 내림차순 출력\n",
        "  count = 0\n",
        "  for i in (-1 * similarity).argsort():\n",
        "    if id_to_word[i] == query:\n",
        "      continue\n",
        "    print(\"%s : %s\" %(id_to_word[i], similarity[i]))\n",
        "\n",
        "    count+=1\n",
        "    if count>=top:\n",
        "      return"
      ],
      "metadata": {
        "id": "diORoXWWnMnd"
      },
      "execution_count": 22,
      "outputs": []
    },
    {
      "cell_type": "code",
      "source": [
        "text = 'You say goodbye and i say hello.'\n",
        "corpus, word_to_id, id_to_word = preprocess(text)\n",
        "vocab_size = len(word_to_id)\n",
        "C = create_co_matrix(corpus, vocab_size)\n",
        " \n",
        "most_similar('you', word_to_id, id_to_word, C, top = 5)"
      ],
      "metadata": {
        "colab": {
          "base_uri": "https://localhost:8080/"
        },
        "id": "Du8NKVPsohb0",
        "outputId": "db7acdcb-28a3-40f1-f907-a133937c5091"
      },
      "execution_count": 23,
      "outputs": [
        {
          "output_type": "stream",
          "name": "stdout",
          "text": [
            "\n",
            "[query] you\n",
            "goodbye : 0.7071067691154799\n",
            "i : 0.7071067691154799\n",
            "hello : 0.7071067691154799\n",
            "say : 0.0\n",
            "and : 0.0\n"
          ]
        }
      ]
    },
    {
      "cell_type": "markdown",
      "source": [
        "말뭉치의 크기가 너무 작아 결과가 만족스럽지 못함 "
      ],
      "metadata": {
        "id": "DVAzTIrYlYWv"
      }
    },
    {
      "cell_type": "markdown",
      "source": [
        "# 통계 기반 기법 개선하기 "
      ],
      "metadata": {
        "id": "0fkxIpEIxvjU"
      }
    },
    {
      "cell_type": "markdown",
      "source": [
        "## 상호정보량"
      ],
      "metadata": {
        "id": "8bc-WJXzx0rz"
      }
    },
    {
      "cell_type": "markdown",
      "source": [
        "PROBLEM : 두 단어가 동시에 발생한 횟수는 관련성과 관련이 거의 없음<BR>\n",
        "ex) 단순 등장 횟수를 본다면 'the'가 고빈도 단어라 'drive'보다 더 'car'와 관련성을 가진다고 봄\n",
        "\n",
        "SOLUTION : **점별 상호정보량(PMI)** <br>\n",
        "단어가 단독으로 출현하는 횟수가 고려됨됨"
      ],
      "metadata": {
        "id": "QL0EHsvHx4dc"
      }
    },
    {
      "cell_type": "markdown",
      "source": [
        "![image.png](data:image/png;base64,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)"
      ],
      "metadata": {
        "id": "njPVV5a8gbE9"
      }
    },
    {
      "cell_type": "markdown",
      "source": [
        "두 단어의 동시발생 횟수가 0이면 음의 무한대 <br>\n",
        "=> 양의 상호정보량(PPMI) = max(0, PMI(x, y)"
      ],
      "metadata": {
        "id": "M9Q5j3SFhFuP"
      }
    },
    {
      "cell_type": "code",
      "source": [
        "def ppmi(C, verbose = False, eps = 1e-8):\n",
        "  M = np.zeros_like(C, dtype = np.float32)\n",
        "  N = np.sum(C) # 전체 출현 횟수\n",
        "  S = np.sum(C, axis = 0) # 단어당 단독 출현 횟수\n",
        "  total = C.shape[0] * C.shape[1]\n",
        "  cnt = 0\n",
        "\n",
        "  for i in range(C.shape[0]):\n",
        "    for j in range(C.shape[1]):\n",
        "      pmi = np.log2(C[i, j] * N / (S[i] * S[j]) + eps)\n",
        "      M[i, j] = max(0, pmi)\n",
        "\n",
        "      if verbose:\n",
        "        cnt += 1\n",
        "        if cnt % (total//100+1) == 0:\n",
        "          print(\"%.1f%% 완료\" %(100*cnt/total))\n",
        "  return M\n"
      ],
      "metadata": {
        "id": "naBSxv8yhrDm"
      },
      "execution_count": 14,
      "outputs": []
    },
    {
      "cell_type": "code",
      "source": [
        "text = 'You say goodbye and i say hello.'\n",
        "corpus, word_to_id, id_to_word = preprocess(text)\n",
        "vocab_size = len(word_to_id)\n",
        "C = create_co_matrix(corpus, vocab_size)\n",
        "W = ppmi(C)\n",
        "\n",
        "np.set_printoptions(precision=3)\n",
        "print(W)"
      ],
      "metadata": {
        "colab": {
          "base_uri": "https://localhost:8080/"
        },
        "id": "eQB58SEdjEh_",
        "outputId": "b913a945-58da-478c-9ddb-f21e9b8d9c86"
      },
      "execution_count": 15,
      "outputs": [
        {
          "output_type": "stream",
          "name": "stdout",
          "text": [
            "[[0.    1.807 0.    0.    0.    0.    0.   ]\n",
            " [1.807 0.    0.807 0.    0.807 0.807 0.   ]\n",
            " [0.    0.807 0.    1.807 0.    0.    0.   ]\n",
            " [0.    0.    1.807 0.    1.807 0.    0.   ]\n",
            " [0.    0.807 0.    1.807 0.    0.    0.   ]\n",
            " [0.    0.807 0.    0.    0.    0.    2.807]\n",
            " [0.    0.    0.    0.    0.    2.807 0.   ]]\n"
          ]
        }
      ]
    },
    {
      "cell_type": "markdown",
      "source": [
        "- 말뭉치의 어휘 수가 증가함에 따라 각 단어 벡터의 차원 수도 증가\n",
        "- 원소 대부분이 0 => 원소 대부분 중요도가 낮음, 노이즈에 약하고 견고하지 못함함"
      ],
      "metadata": {
        "id": "yNNkrdhhj7EO"
      }
    },
    {
      "cell_type": "markdown",
      "source": [
        "## 차원 감소"
      ],
      "metadata": {
        "id": "m5aBJI7wkIjQ"
      }
    },
    {
      "cell_type": "markdown",
      "source": [
        "희소벡터에서 중요한 축을 찾아내어 더 적은 차원으로 다시 표현 <BR>\n",
        "\n",
        "**특잇값분해(SVD)** <BR>\n",
        "![image.png](data:image/png;base64,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)"
      ],
      "metadata": {
        "id": "cS_HacN3kL7M"
      }
    },
    {
      "cell_type": "code",
      "source": [
        "text = 'You say goodbye and i say hello.'\n",
        "corpus, word_to_id, id_to_word = preprocess(text)\n",
        "vocab_size = len(word_to_id)\n",
        "C = create_co_matrix(corpus, vocab_size)\n",
        "W = ppmi(C)\n",
        "\n",
        "U, S, V = np.linalg.svd(W)\n",
        "print(U[0])"
      ],
      "metadata": {
        "colab": {
          "base_uri": "https://localhost:8080/"
        },
        "id": "IwL0O2jJjXm-",
        "outputId": "2ab7e110-e6ad-43db-93d5-23c05333c421"
      },
      "execution_count": 16,
      "outputs": [
        {
          "output_type": "stream",
          "name": "stdout",
          "text": [
            "[ 3.409e-01 -1.110e-16 -1.205e-01 -4.163e-16 -9.323e-01 -1.110e-16\n",
            " -2.426e-17]\n"
          ]
        }
      ]
    },
    {
      "cell_type": "code",
      "source": [
        "import matplotlib.pyplot as plt\n",
        "%matplotlib inline\n",
        "\n",
        "for word, word_id in word_to_id.items():\n",
        "  plt.annotate(word, (U[word_id, 0], U[word_id, 1]))\n",
        "\n",
        "plt.scatter(U[:, 0], U[:, 1], alpha = 0.5)\n",
        "plt.show()"
      ],
      "metadata": {
        "colab": {
          "base_uri": "https://localhost:8080/",
          "height": 265
        },
        "id": "STBvn-bvlUTG",
        "outputId": "61a328a4-f315-431b-89b8-842890308587"
      },
      "execution_count": 18,
      "outputs": [
        {
          "output_type": "display_data",
          "data": {
            "text/plain": [
              "<Figure size 432x288 with 1 Axes>"
            ],
            "image/png": "[encoded data removed]"
          },
          "metadata": {
            "needs_background": "light"
          }
        }
      ]
    },
    {
      "cell_type": "markdown",
      "source": [
        "## PTB 데이터셋"
      ],
      "metadata": {
        "id": "MDevXYHHmAnv"
      }
    },
    {
      "cell_type": "code",
      "source": [
        "from dataset import ptb\n",
        "\n",
        "window_size = 2\n",
        "wordvec_size = 100\n",
        "\n",
        "corpus, word_to_id, id_to_word = ptb.load_data('train')\n",
        "vocab_size = len(word_to_id)\n",
        "print('Create Co-occurrence Matrix...')\n",
        "C = create_co_matrix(corpus, vocab_size, window_size)\n",
        "\n",
        "print('PPMI 계산...')\n",
        "W = ppmi(C, verbose=True)\n",
        "\n",
        "try:\n",
        "    # truncated SVD\n",
        "    from sklearn.utils.extmath import randomized_svd\n",
        "    U, S, V = randomized_svd(W, n_components=wordvec_size, n_iter=5,\n",
        "                             random_state=None)\n",
        "except:\n",
        "    # SVD\n",
        "    U, S, V = np.linalg.svd(W)\n",
        "\n",
        "    \n",
        "word_vecs = U[:, :wordvec_size]\n",
        "querys = ['you', 'year', 'car', 'toyota']\n",
        "for query in querys:\n",
        "    most_similar(query, word_to_id, id_to_word, word_vecs, top=5)"
      ],
      "metadata": {
        "colab": {
          "base_uri": "https://localhost:8080/"
        },
        "id": "vc5z80E8qySN",
        "outputId": "e240d5e0-6dd5-4719-fc8d-42ed134cd70a"
      },
      "execution_count": 24,
      "outputs": [
        {
          "output_type": "stream",
          "name": "stdout",
          "text": [
            "Create Co-occurrence Matrix...\n",
            "PPMI 계산...\n",
            "1.0% 완료\n",
            "2.0% 완료\n",
            "3.0% 완료\n",
            "4.0% 완료\n",
            "5.0% 완료\n",
            "6.0% 완료\n",
            "7.0% 완료\n",
            "8.0% 완료\n",
            "9.0% 완료\n",
            "10.0% 완료\n",
            "11.0% 완료\n",
            "12.0% 완료\n",
            "13.0% 완료\n",
            "14.0% 완료\n",
            "15.0% 완료\n",
            "16.0% 완료\n",
            "17.0% 완료\n",
            "18.0% 완료\n",
            "19.0% 완료\n",
            "20.0% 완료\n",
            "21.0% 완료\n",
            "22.0% 완료\n",
            "23.0% 완료\n",
            "24.0% 완료\n",
            "25.0% 완료\n",
            "26.0% 완료\n",
            "27.0% 완료\n",
            "28.0% 완료\n",
            "29.0% 완료\n",
            "30.0% 완료\n",
            "31.0% 완료\n",
            "32.0% 완료\n",
            "33.0% 완료\n",
            "34.0% 완료\n",
            "35.0% 완료\n",
            "36.0% 완료\n",
            "37.0% 완료\n",
            "38.0% 완료\n",
            "39.0% 완료\n",
            "40.0% 완료\n",
            "41.0% 완료\n",
            "42.0% 완료\n",
            "43.0% 완료\n",
            "44.0% 완료\n",
            "45.0% 완료\n",
            "46.0% 완료\n",
            "47.0% 완료\n",
            "48.0% 완료\n",
            "49.0% 완료\n",
            "50.0% 완료\n",
            "51.0% 완료\n",
            "52.0% 완료\n",
            "53.0% 완료\n",
            "54.0% 완료\n",
            "55.0% 완료\n",
            "56.0% 완료\n",
            "57.0% 완료\n",
            "58.0% 완료\n",
            "59.0% 완료\n",
            "60.0% 완료\n",
            "61.0% 완료\n",
            "62.0% 완료\n",
            "63.0% 완료\n",
            "64.0% 완료\n",
            "65.0% 완료\n",
            "66.0% 완료\n",
            "67.0% 완료\n",
            "68.0% 완료\n",
            "69.0% 완료\n",
            "70.0% 완료\n",
            "71.0% 완료\n",
            "72.0% 완료\n",
            "73.0% 완료\n",
            "74.0% 완료\n",
            "75.0% 완료\n",
            "76.0% 완료\n",
            "77.0% 완료\n",
            "78.0% 완료\n",
            "79.0% 완료\n",
            "80.0% 완료\n",
            "81.0% 완료\n",
            "82.0% 완료\n",
            "83.0% 완료\n",
            "84.0% 완료\n",
            "85.0% 완료\n",
            "86.0% 완료\n",
            "87.0% 완료\n",
            "88.0% 완료\n",
            "89.0% 완료\n",
            "90.0% 완료\n",
            "91.0% 완료\n",
            "92.0% 완료\n",
            "93.0% 완료\n",
            "94.0% 완료\n",
            "95.0% 완료\n",
            "96.0% 완료\n",
            "97.0% 완료\n",
            "98.0% 완료\n",
            "99.0% 완료\n",
            "\n",
            "[query] you\n",
            "i : 0.6340877413749695\n",
            "we : 0.6227731704711914\n",
            "do : 0.5370317101478577\n",
            "someone : 0.5320379734039307\n",
            "anybody : 0.5163865089416504\n",
            "\n",
            "[query] year\n",
            "month : 0.6792671084403992\n",
            "earlier : 0.6500165462493896\n",
            "quarter : 0.6300184726715088\n",
            "last : 0.5978426933288574\n",
            "next : 0.5709447264671326\n",
            "\n",
            "[query] car\n",
            "auto : 0.5876084566116333\n",
            "luxury : 0.5545588731765747\n",
            "cars : 0.4960014522075653\n",
            "corsica : 0.4631911814212799\n",
            "vehicle : 0.45093703269958496\n",
            "\n",
            "[query] toyota\n",
            "motor : 0.7180992960929871\n",
            "nissan : 0.6707462668418884\n",
            "motors : 0.6204111576080322\n",
            "lexus : 0.5801793336868286\n",
            "honda : 0.5611758232116699\n"
          ]
        }
      ]
    }
  ]
}