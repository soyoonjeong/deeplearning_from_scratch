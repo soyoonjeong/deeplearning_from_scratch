{
  "cells": [
    {
      "cell_type": "markdown",
      "metadata": {
        "id": "view-in-github",
        "colab_type": "text"
      },
      "source": [
        "<a href=\"https://colab.research.google.com/github/soyoonjeong/deeplearning_from_scratch/blob/main/ch3_%EC%8B%A0%EA%B2%BD%EB%A7%9D.ipynb\" target=\"_parent\"><img src=\"https://colab.research.google.com/assets/colab-badge.svg\" alt=\"Open In Colab\"/></a>"
      ]
    },
    {
      "cell_type": "markdown",
      "source": [
        "- 신경망에서는 활성화 함수로 시그모이드 함수와 ReLU 함수 같은 매끄럽게 변화하는 함수를 이용 (퍼셉트론에서는 활성화 함수로 갑자기 변화하는 계단 함수 이용)\n",
        "- 넘파이의 다차원 배열을 잘 사용하면 신경망을 효율적으로 구현할 수 있음\n",
        "- 출력층의 활성화 함수로는 회귀에서는 주로 항등 함수를, 분류에서는 주로 소프트맥스 함수를 이용\n",
        "- 분류에서는 출력층의 뉴런 수를 분류하려는 클래스 수와 같게 설정\n",
        "- 입력 데이터를 묶은 것을 배치라 하며, 추론 처리를 이 배치 단위로 진행하면 결과를 훨씬 빠르게 얻을 수 있음 "
      ],
      "metadata": {
        "id": "3-syrK0Atb52"
      }
    },
    {
      "cell_type": "code",
      "execution_count": null,
      "metadata": {
        "id": "HpGTaWkznc9Z"
      },
      "outputs": [],
      "source": [
        "import numpy as np\n",
        "import matplotlib.pylab as plt"
      ]
    },
    {
      "cell_type": "markdown",
      "metadata": {
        "id": "2AoFh-_VuYs1"
      },
      "source": [
        "# 활성화 함수 "
      ]
    },
    {
      "cell_type": "markdown",
      "metadata": {
        "id": "B98YTyLQuid8"
      },
      "source": [
        "## 계단 함수 "
      ]
    },
    {
      "cell_type": "code",
      "execution_count": null,
      "metadata": {
        "id": "a8vegsz8ukq8"
      },
      "outputs": [],
      "source": [
        "# 인수가 실수인 것만 받아들이는 계단 함수 \n",
        "def step_function(x):\n",
        "  if x > 0:\n",
        "    return 1\n",
        "  else:\n",
        "    return 0"
      ]
    },
    {
      "cell_type": "code",
      "execution_count": null,
      "metadata": {
        "id": "gzCp-MKXub-X"
      },
      "outputs": [],
      "source": [
        "# 넘파이 배열도 지원하는 계단 함수\n",
        "def step_function(x):\n",
        "  y = x > 0\n",
        "  return y.astype(np.int)"
      ]
    },
    {
      "cell_type": "code",
      "execution_count": null,
      "metadata": {
        "colab": {
          "base_uri": "https://localhost:8080/",
          "height": 339
        },
        "id": "DeL0AbT1vFpO",
        "outputId": "59a38aa5-dc03-49c0-a3f2-b1e1a51e9494"
      },
      "outputs": [
        {
          "name": "stderr",
          "output_type": "stream",
          "text": [
            "<ipython-input-8-d6be9a268e09>:4: DeprecationWarning: `np.int` is a deprecated alias for the builtin `int`. To silence this warning, use `int` by itself. Doing this will not modify any behavior and is safe. When replacing `np.int`, you may wish to use e.g. `np.int64` or `np.int32` to specify the precision. If you wish to review your current use, check the release note link for additional information.\n",
            "Deprecated in NumPy 1.20; for more details and guidance: https://numpy.org/devdocs/release/1.20.0-notes.html#deprecations\n",
            "  return y.astype(np.int)\n"
          ]
        },
        {
          "data": {
            "image/png": "[encoded data removed]",
            "text/plain": [
              "<Figure size 432x288 with 1 Axes>"
            ]
          },
          "metadata": {
            "needs_background": "light"
          },
          "output_type": "display_data"
        }
      ],
      "source": [
        "x = np.arange(-5.0, 5.0, 0.1)\n",
        "y = step_function(x)\n",
        "plt.plot(x, y)\n",
        "plt.ylim(-0.1, 1.1)\n",
        "plt.show()"
      ]
    },
    {
      "cell_type": "markdown",
      "metadata": {
        "id": "qSCDtH00viJR"
      },
      "source": [
        "## 시그모이드 함수 "
      ]
    },
    {
      "cell_type": "markdown",
      "metadata": {
        "id": "13XBaoRmvveC"
      },
      "source": [
        "![image.png](data:image/png;base64,iVBORw0KGgoAAAANSUhEUgAAAI8AAAAyCAYAAABlN4g4AAAE9klEQVR4nO2cv3LjVBSHPwWGCiZyKroklFRJHmDXDg9AkgdgNukXHHog2TxAslAzielogDR0rL28QJLtqFY7VFQxW9GZ4tw7SmRdSZauI8l7vhmPHMu+upP70/l3jw2KoigPzXt1T0DJJADWgXPgU2BU73Tu837dE1BS2QDOgGXzHOBVfdNJRy1PM/kP+Av4GfgHeAy8pGGWZ6nuCSipjIEhcFX3RLJQ8SilUfEopVHxKKVR8bSHoO4JJFHxKKVR8SilUfEopVHxKKXxJZ4ucRl9VtaAPU/zWESWzXFS6yxKsgkcAfuO87vAdcVrDICDimMsEkuIWFyPxmVeaewC/yLimTC9wOtAZI5VWDHjbFccZ5EIMh6tIEKswggRz2Hi/Ah45ulaB8BrWvTPUdxsIYI5RixL0upsm/MdT9dbQsSq7msBOEbE0XOcvwR+83zN54j1UVrOJW7LEphzX+eMkeajs9zSnhn3k4JzVBpEgMQxI+AWWcih+XvnzvusS8sKcA+QBqYIsVAh8L15fk26KFdID8yVBpJsQ7UxTgD8gbQ+npjX7zYmrZpj5Bh3H3iE1H8miFhem7FGwI9AH/gu8blxYvwsQqYD+CKMkBtCqUhaD/OQ2KJcAi9S3rNpjmni6SDC2CAubIXAW+AUaeYOSa8NTYA3SOGwCC4XmFULGTteV2bE1QBv7/wybZDLwFfEwumY8X4yr/WR5m5XYfENxSzPGPi2xPyKcgJ8PMfx28qvwO/gFo/darjJGSitZB5x3yLZbO2lOY6pXpF+CD4EPqp7Eg3kA/skTTwBsXjy0mabdWXx2ByLxhmriPXJIyR2n7MQUawcUCaeeqdwWZ5HiKVwCWMEfIMsdHIhQiSu+QGJlz5HxBAlPr+LZHR3CcyYgwJzD3HXoLIYorUkL6SJx97Nf2Z8zgad60wvxCGS1t8g4lg1Y1kh9pD9sqRwQASBOZ9HxHxjHiWHNPHYYDUrLrlCFniD6WzMWpkIya5OgC8RC7SFuLEd0umaY6O+3KYU5xnFqrwD3NsTB4gFsrvtm2bcPbIrzMeI6HRztEWESAwSIrFOkWzI98ZogAjn2NN48yIEntQ9iSZh97E+Y7btAd8tGWP8idEnW8jNdYbEaovqVsP8t0xziQS+p8T1mCJsItai6oKvIHHUbsVx5kGAiOYSuEBuLh/iOaNZ7vkImdMI2Ta6QDxQbrV/DXEXh8yuvm2q/zMHSDtG0+nhRzwBcpM25QsIO8RJzBGxaCZk9KbbbCtiepOyKC+If0emTOU4RGovFyWvr6TTJc5eXdgOh2viOtwGcTdEB90L9IYvywN+LE+PuE14yLTbz+qDzto4bmL40Hp8uq0R1cTzHFloW/6w2W+ZLyM84X4nhI1hj7I+1BSfq8zGACm89oBfiJv23lLOzdjSQx8p/k7Id3n6m4QPgLUISZaJN42TXOEWQQ/4Asn+bhAD0AWeItYobdsnjz4SMJ+ZRx+JeTItj4pnvqzhTkTWcS/OKe7qvc2K1hBrM0FEZDeiy2CD5rt/K55pQsxjux161Fwn0pinfVh3Zr+IWRsqnvZhdwCSxdwAqZWV/cEJZU7sIxX4c+Ruv0XiFftt2lmp4rY6SExybp53kGzpBvePUcwFDZiLYYtqfyMbwQHxwj+067hF4p0+0ow+RqxRl3KZltIyfBQJlXcYjU0URVFm5n+D7BEi4E4auQAAAABJRU5ErkJggg==)"
      ]
    },
    {
      "cell_type": "code",
      "execution_count": null,
      "metadata": {
        "id": "7N0D1OxYvzNU"
      },
      "outputs": [],
      "source": [
        "def sigmoid(x):\n",
        "  return 1 / (1 + np.exp(-x)) # 넘파이 배열 지원 : 브로드캐스트 기능 "
      ]
    },
    {
      "cell_type": "code",
      "execution_count": null,
      "metadata": {
        "colab": {
          "base_uri": "https://localhost:8080/",
          "height": 265
        },
        "id": "cHgvki8uv5bi",
        "outputId": "66d00cd5-3cf9-428f-d796-ccaa8034883f"
      },
      "outputs": [
        {
          "data": {
            "image/png": "[encoded data removed]",
            "text/plain": [
              "<Figure size 432x288 with 1 Axes>"
            ]
          },
          "metadata": {
            "needs_background": "light"
          },
          "output_type": "display_data"
        }
      ],
      "source": [
        "x = np.arange(-5.0, 5.0, 0.1)\n",
        "y = sigmoid(x)\n",
        "plt.plot(x, y)\n",
        "plt.ylim(-0.1, 1.1)\n",
        "plt.show()"
      ]
    },
    {
      "cell_type": "markdown",
      "metadata": {
        "id": "ZnQP0xF1wMme"
      },
      "source": [
        "## 계단 함수와 시그모이드 함수의 비교 "
      ]
    },
    {
      "cell_type": "markdown",
      "metadata": {
        "id": "Q6uV4Sd2wQhU"
      },
      "source": [
        "차이점\n",
        "- **매끄러움**의 차이 <br>\n",
        "시그모이드 함수 : 입력에 따라 출력이 연속적으로 변화<br>\n",
        "계단 함수 : 0을 경계로 출력이 급격하게 변화 \n",
        "\n",
        "공통점 \n",
        "- 입력이 작을 때 출력이 0에 가깝고, 입력이 클 때 출력이 1에 가까움\n",
        "- 출력이 0과 1 사이 "
      ]
    },
    {
      "cell_type": "markdown",
      "metadata": {
        "id": "dSTkE2rmw3V8"
      },
      "source": [
        "## 비선형 함수 "
      ]
    },
    {
      "cell_type": "markdown",
      "metadata": {
        "id": "8eIv4VwLw6KT"
      },
      "source": [
        "**신경망에서는 활성화 함수로 비선형 함수를 사용해야함**\n",
        "- 선형 함수 : 출력이 입력의 상수배만큼 변하는 함수 \n",
        "- 선형 함수는 은닉층이 없는 네트워크로도 표현할 수 있기에 층을 깊게 하는 의미가 없음 "
      ]
    },
    {
      "cell_type": "markdown",
      "metadata": {
        "id": "cN6VEZKwxXbp"
      },
      "source": [
        "## ReLU 함수 "
      ]
    },
    {
      "cell_type": "markdown",
      "metadata": {
        "id": "dG7myYyAxgPj"
      },
      "source": [
        "입력이 0을 넘으면 그 입력 그대로 출력, 0 이하이면 0을 출력하는 함수 "
      ]
    },
    {
      "cell_type": "code",
      "execution_count": null,
      "metadata": {
        "id": "QXmun2SZxlks"
      },
      "outputs": [],
      "source": [
        "def relu(x):\n",
        "  return np.maximum(0, x)"
      ]
    },
    {
      "cell_type": "code",
      "execution_count": null,
      "metadata": {
        "colab": {
          "base_uri": "https://localhost:8080/",
          "height": 269
        },
        "id": "gdHms7VDxq4_",
        "outputId": "a1418226-1a4a-45ca-cc28-90466cfd522c"
      },
      "outputs": [
        {
          "data": {
            "image/png": "[encoded data removed]",
            "text/plain": [
              "<Figure size 432x288 with 1 Axes>"
            ]
          },
          "metadata": {
            "needs_background": "light"
          },
          "output_type": "display_data"
        }
      ],
      "source": [
        "x = np.arange(-5.0, 5.0, 0.1)\n",
        "y = relu(x)\n",
        "plt.plot(x, y)\n",
        "plt.ylim(-1.0, 5.0)\n",
        "plt.show()"
      ]
    },
    {
      "cell_type": "markdown",
      "metadata": {
        "id": "eaCgLMu78k6G"
      },
      "source": [
        "# 3층 신경망 구현하기 \n",
        "입력부터 출력까지의 처리(순방향 처리) 구현 "
      ]
    },
    {
      "cell_type": "markdown",
      "metadata": {
        "id": "OMKD7T1D8fPp"
      },
      "source": [
        "### 입력층 -> 1층 "
      ]
    },
    {
      "cell_type": "code",
      "execution_count": null,
      "metadata": {
        "colab": {
          "base_uri": "https://localhost:8080/"
        },
        "id": "V-DoopD582DZ",
        "outputId": "511c4457-9e70-4623-e653-87e3da538ccb"
      },
      "outputs": [
        {
          "name": "stdout",
          "output_type": "stream",
          "text": [
            "[0.3 0.7 1.1]\n",
            "[0.57444252 0.66818777 0.75026011]\n"
          ]
        }
      ],
      "source": [
        "X = np.array([1.0, 0.5])\n",
        "W1 = np.array([[0.1, 0.3, 0.5], [0.2, 0.4, 0.6]])\n",
        "B1 = np.array([0.1, 0.2, 0.3])\n",
        "\n",
        "A1 = np.dot(X, W1) + B1\n",
        "Z1 = sigmoid(A1)\n",
        "\n",
        "print(A1)\n",
        "print(Z1)"
      ]
    },
    {
      "cell_type": "markdown",
      "metadata": {
        "id": "z1MKId4f9YDi"
      },
      "source": [
        "### 1층 -> 2층 "
      ]
    },
    {
      "cell_type": "code",
      "execution_count": null,
      "metadata": {
        "colab": {
          "base_uri": "https://localhost:8080/"
        },
        "id": "bxot2MBW9Qs_",
        "outputId": "911a8b1e-4c1e-4450-bb92-191a348e8018"
      },
      "outputs": [
        {
          "name": "stdout",
          "output_type": "stream",
          "text": [
            "[0.51615984 1.21402696]\n",
            "[0.62624937 0.7710107 ]\n"
          ]
        }
      ],
      "source": [
        "W2 = np.array([[0.1, 0.4], [0.2, 0.5], [0.3, 0.6]])\n",
        "B2 = np.array([0.1, 0.2])\n",
        "\n",
        "A2 = np.dot(Z1, W2) + B2\n",
        "Z2 = sigmoid(A2)\n",
        "\n",
        "print(A2)\n",
        "print(Z2)"
      ]
    },
    {
      "cell_type": "markdown",
      "metadata": {
        "id": "SZn22Ebq9vab"
      },
      "source": [
        "### 2층 -> 출력층"
      ]
    },
    {
      "cell_type": "code",
      "execution_count": null,
      "metadata": {
        "id": "z5UHrAYA9ykB"
      },
      "outputs": [],
      "source": [
        "def identify_function(x): # 출력층의 활성화 함수로 항등 함수 \n",
        "  return x\n",
        "\n",
        "W3 = np.array([[0.1, 0.3], [0.2, 0.4]])\n",
        "B3 = np.array([0.1, 0.2])\n",
        "\n",
        "A3 = np.dot(Z2, W3) + B3\n",
        "Y = identify_function(A3) "
      ]
    },
    {
      "cell_type": "markdown",
      "metadata": {
        "id": "oLpKkxZm-Npd"
      },
      "source": [
        "출력층의 활성화 함수는 풀고자 하는 문제의 성질에 맞게 정함\n",
        "- 회귀 : 항등 함수\n",
        "- 2클래스 분류 : 시그모이드 함수 \n",
        "- 다중 클래스 분류 : 소프트맥스 함수 "
      ]
    },
    {
      "cell_type": "markdown",
      "metadata": {
        "id": "Y0cuUrIj-XNK"
      },
      "source": [
        "### 구현 정리 "
      ]
    },
    {
      "cell_type": "code",
      "execution_count": null,
      "metadata": {
        "colab": {
          "base_uri": "https://localhost:8080/"
        },
        "id": "Pptd2Zpv-bo7",
        "outputId": "8a6e7fb8-125a-4bcf-917a-4b0e28699e6f"
      },
      "outputs": [
        {
          "name": "stdout",
          "output_type": "stream",
          "text": [
            "[0.31682708 0.69627909]\n"
          ]
        }
      ],
      "source": [
        "def init_network():\n",
        "  network = {}\n",
        "  network['W1'] = np.array([[0.1, 0.3, 0.5], [0.2, 0.4, 0.6]])\n",
        "  network['b1'] = np.array([0.1, 0.2, 0.3])\n",
        "  network['W2'] = np.array([[0.1, 0.4], [0.2, 0.5], [0.3, 0.6]])\n",
        "  network['b2'] = np.array([0.1, 0.2])\n",
        "  network['W3'] = np.array([[0.1, 0.3], [0.2, 0.4]])\n",
        "  network['b3'] = np.array([0.1, 0.2])\n",
        "\n",
        "  return network\n",
        "\n",
        "def forward(network, x):\n",
        "  W1, W2, W3 = network['W1'], network['W2'], network['W3']\n",
        "  b1, b2, b3 = network['b1'], network['b2'], network['b3']\n",
        "\n",
        "  a1 = np.dot(x, W1) + b1\n",
        "  z1 = sigmoid(a1)\n",
        "  a2 = np.dot(z1, W2) + b2\n",
        "  z2 = sigmoid(a2)\n",
        "  a3 = np.dot(z2, W3) + b3\n",
        "  y = identify_function(a3)\n",
        "\n",
        "  return y\n",
        "\n",
        "network = init_network()\n",
        "x = np.array([1.0, 0.5])\n",
        "y = forward(network, x)\n",
        "print(y)"
      ]
    },
    {
      "cell_type": "markdown",
      "metadata": {
        "id": "APKpMiSEgkNq"
      },
      "source": [
        "# 출력층 설계하기 "
      ]
    },
    {
      "cell_type": "markdown",
      "metadata": {
        "id": "92vD7GgSgu0w"
      },
      "source": [
        "어떤 문제냐에 따라 출력층에 사용하는 활성화 함수 다름 \n",
        "- 회귀 : 항등 함수 \n",
        "- 분류 : 소프트맥스 함수 "
      ]
    },
    {
      "cell_type": "markdown",
      "metadata": {
        "id": "4XoPRJS-g8Dc"
      },
      "source": [
        "## 소프트맥스 함수 "
      ]
    },
    {
      "cell_type": "markdown",
      "metadata": {
        "id": "POgpP2iHhEJi"
      },
      "source": [
        "![image.png](data:image/png;base64,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)"
      ]
    },
    {
      "cell_type": "markdown",
      "metadata": {
        "id": "cRPhmKtohHkB"
      },
      "source": [
        "- 분자 : 각 입력 신호의 지수 함수 \n",
        "- 분모 : 모든 입력 신호의 지수 함수의 합 => 출력층의 각 뉴런은 모든 입력 신호에서 영향을 받음 "
      ]
    },
    {
      "cell_type": "code",
      "execution_count": null,
      "metadata": {
        "id": "7PNdaGqmhYop"
      },
      "outputs": [],
      "source": [
        "def softmax(a):\n",
        "  exp_a = np.exp(a)\n",
        "  sum_exp_a = sum(exp_a)\n",
        "  y = exp_a / sum_exp_a\n",
        "\n",
        "  return y"
      ]
    },
    {
      "cell_type": "markdown",
      "metadata": {
        "id": "-Hq7J7Q2hlUw"
      },
      "source": [
        "### 소프트맥스 함수 구현 시 유의점 "
      ]
    },
    {
      "cell_type": "markdown",
      "metadata": {
        "id": "MZGPGwUlhqVR"
      },
      "source": [
        "PROBLEM : 오버플로 문제 \n",
        "- 지수 함수의 값은 매우 커서 큰 값끼리 나눗셈을 할 경우 수치가 불안정해짐 \n",
        "\n",
        "SOLUTION : 입력 신호에 어떤 값(보통 입력 신호 중 최댓값)을 빼서 값을 낮춤 \n",
        "- 입력 신호에 어떤 값을 빼도 결과는 바뀌지 않기 때문<br>\n",
        "![image.png](data:image/png;base64,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)"
      ]
    },
    {
      "cell_type": "code",
      "execution_count": null,
      "metadata": {
        "id": "zFQRcn5kg6xb"
      },
      "outputs": [],
      "source": [
        "def softmax(a):\n",
        "  exp_a = np.exp(a- np.max(a)) # 최댓값 빼서 입력 낮춰줌 \n",
        "  sum_exp_a = sum(exp_a)\n",
        "  y = exp_a / sum_exp_a\n",
        "\n",
        "  return y"
      ]
    },
    {
      "cell_type": "markdown",
      "metadata": {
        "id": "qnxW89X1i2D4"
      },
      "source": [
        "### 소프트맥스 함수의 특징 "
      ]
    },
    {
      "cell_type": "markdown",
      "metadata": {
        "id": "4hxJ61xAi53D"
      },
      "source": [
        "- 출력이 0과 1 사이 실수\n",
        "- 소프트맥스 함수 출력의 총합은 1 <br>\n",
        "=> 소프트맥스 함수 출력을 **확률** 로 해석 가능 \n",
        "- 가장 큰 출력을 내는 뉴런에 해당하는 클래스로만 인식 <br>\n",
        "=> 신경망으로 분류할 때 출력층의 소프트맥스 함수를 생략해도 됨"
      ]
    },
    {
      "cell_type": "code",
      "execution_count": null,
      "metadata": {
        "colab": {
          "base_uri": "https://localhost:8080/"
        },
        "id": "Q9bILPJfgjiH",
        "outputId": "1ebe5a70-4089-4b2e-b54d-40b0cd1c86ff"
      },
      "outputs": [
        {
          "name": "stdout",
          "output_type": "stream",
          "text": [
            "[0.01821127 0.24519181 0.73659691]\n",
            "1.0\n"
          ]
        }
      ],
      "source": [
        "a = np.array([0.3, 2.9, 4.0])\n",
        "y = softmax(a)\n",
        "print(y)\n",
        "print(sum(y))"
      ]
    },
    {
      "cell_type": "markdown",
      "metadata": {
        "id": "mVGZB7yBj6E-"
      },
      "source": [
        "# 손글씨 숫자 인식 "
      ]
    },
    {
      "cell_type": "code",
      "execution_count": null,
      "metadata": {
        "id": "v8zWAhGzl2p_"
      },
      "outputs": [],
      "source": [
        "import sys, os\n",
        "from mnist import load_mnist\n",
        "from PIL import Image\n",
        "import pickle\n",
        "\n",
        "def img_show(img):\n",
        "  pil_img = Image.fromarray(np.uint8(img))\n",
        "  pil_img.show()\n",
        "\n",
        "(x_train, t_train), (x_test, t_test) = load_mnist(flatten = True, normalize = False)\n",
        "img = x_train[0]\n",
        "label = t_train[0]\n",
        "img = img.reshape(28, 28)\n",
        "img_show(img)"
      ]
    },
    {
      "cell_type": "code",
      "execution_count": null,
      "metadata": {
        "id": "GID4nMyqkNkp"
      },
      "outputs": [],
      "source": [
        "def get_data():\n",
        "    (x_train, t_train), (x_test, t_test) = load_mnist(normalize = True, flatten = True, one_hot_label = False) \n",
        "    # 정규화 : 0~255 범위인 각 픽셀의 값을 0~1 범위로 변환 \n",
        "    return x_test, t_test\n",
        "\n",
        "def init_network():\n",
        "    with open(\"sample_weight.pkl\", 'rb') as f:\n",
        "        network = pickle.load(f)\n",
        "    return network\n",
        "\n",
        "def predict(network, x):\n",
        "    W1, W2, W3 = network['W1'], network['W2'], network['W3']\n",
        "    b1, b2, b3 = network['b1'], network['b2'], network['b3']\n",
        "    \n",
        "    a1 = np.dot(x, W1) + b1\n",
        "    z1 = sigmoid(a1)\n",
        "    a2 = np.dot(z1, W2) + b2\n",
        "    z2 = sigmoid(a2)\n",
        "    a3 = np.dot(z2, W3) + b3\n",
        "    y = softmax(a3)\n",
        "    \n",
        "    return y"
      ]
    },
    {
      "cell_type": "code",
      "execution_count": null,
      "metadata": {
        "id": "BtcGNFlDtXRt",
        "outputId": "7ed2f1e4-b440-4bf4-f1d7-57fabe6f5d52"
      },
      "outputs": [
        {
          "name": "stdout",
          "output_type": "stream",
          "text": [
            "정확도 :  0.9352\n"
          ]
        }
      ],
      "source": [
        "x, t = get_data()\n",
        "network = init_network()\n",
        "\n",
        "accuracy_cnt = 0\n",
        "for i in range(len(x)):\n",
        "    y = predict(network, x[i])\n",
        "    p = np.argmax(y)\n",
        "    if p == t[i]:\n",
        "        accuracy_cnt += 1\n",
        "\n",
        "print(\"정확도 : \", float(accuracy_cnt) / len(x))"
      ]
    },
    {
      "cell_type": "markdown",
      "metadata": {
        "id": "RyrjB5wctXRt"
      },
      "source": [
        "### 배치 처리 "
      ]
    },
    {
      "cell_type": "markdown",
      "metadata": {
        "id": "Y82fyQv9tXRt"
      },
      "source": [
        "- 수치 계산 라이브러리 대부분이 큰 배열을 효율적으로 처리할 수 있도록 최적화\n",
        "- 배치 처리를 함으로써 버스에 주는 부하를 줄일 수 있음 "
      ]
    },
    {
      "cell_type": "code",
      "execution_count": null,
      "metadata": {
        "id": "KD1KRqKqtXRu",
        "outputId": "06d2edca-0e36-427e-8974-d59539558cde"
      },
      "outputs": [
        {
          "name": "stdout",
          "output_type": "stream",
          "text": [
            "정확도 :  0.9207\n"
          ]
        }
      ],
      "source": [
        "x, t = get_data()\n",
        "network = init_network()\n",
        "\n",
        "batch_size = 100\n",
        "accuracy_cnt = 0\n",
        "\n",
        "for i in range(0, len(x), batch_size):\n",
        "    x_batch = x[i:i+batch_size]\n",
        "    y_batch = predict(network, x_batch)\n",
        "    p = np.argmax(y_batch, axis = 1)\n",
        "    accuracy_cnt += np.sum(p==t[i:i+batch_size])\n",
        "\n",
        "print(\"정확도 : \", float(accuracy_cnt) / len(x))"
      ]
    }
  ],
  "metadata": {
    "colab": {
      "provenance": [],
      "include_colab_link": true
    },
    "kernelspec": {
      "display_name": "Python 3",
      "language": "python",
      "name": "python3"
    },
    "language_info": {
      "codemirror_mode": {
        "name": "ipython",
        "version": 3
      },
      "file_extension": ".py",
      "mimetype": "text/x-python",
      "name": "python",
      "nbconvert_exporter": "python",
      "pygments_lexer": "ipython3",
      "version": "3.8.16"
    }
  },
  "nbformat": 4,
  "nbformat_minor": 0
}